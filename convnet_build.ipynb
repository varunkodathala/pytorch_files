{
 "cells": [
  {
   "cell_type": "code",
   "execution_count": 13,
   "metadata": {},
   "outputs": [],
   "source": [
    "import numpy as np\n",
    "import matplotlib.pyplot as plt\n",
    "import cv2\n",
    "import os\n",
    "import tqdm\n",
    "\n",
    "from tqdm import tqdm"
   ]
  },
  {
   "cell_type": "code",
   "execution_count": 21,
   "metadata": {},
   "outputs": [],
   "source": [
    "build_data = False\n",
    "\n",
    "class DogsvsCats():\n",
    "    \n",
    "    img_size = 50\n",
    "    cats = '/Users/varun/documents/deep_learning/Learn_PYTORCH/PetImages/Cat'\n",
    "    dogs = '/Users/varun/documents/deep_learning/Learn_PYTORCH/PetImages/Dog'\n",
    "    labels = {cats:0,dogs:1}\n",
    "    train_data = []\n",
    "    catcount = 0\n",
    "    dogcount = 0\n",
    "\n",
    "    def make_training_data(self):\n",
    "\n",
    "        for label in self.labels:\n",
    "\n",
    "            for f in tqdm(os.listdir(label)):\n",
    "                    try:\n",
    "                        path = os.path.join(label,f)\n",
    "                        img = cv2.imread(path,cv2.IMREAD_GRAYSCALE)\n",
    "                        img = cv2.resize(img,(img_size,img_size))\n",
    "                        ids = np.eye(2)[self.labels[label]]\n",
    "                        train_data.append([np.array(img),ids])\n",
    "\n",
    "                        if label == self.cats:\n",
    "                                self.catcount +=1\n",
    "                        else:\n",
    "                                self.dogcount +=1\n",
    "                    except Exception as e:\n",
    "                        pass\n",
    "\n",
    "            np.random.shuffle(train_data)\n",
    "            np.save(\"train_data.npy\",train_data)\n",
    "\n",
    "            print(f\"DOGS:  {self.dogcount}\")\n",
    "            print(f\"CATS:  {self.catcount}\")\n",
    "\n",
    "if build_data:\n",
    "    dogsvscats = DogsvsCats()\n",
    "    dogsvscats.make_training_data()\n",
    "else:\n",
    "    train_data = np.load(\"train_data.npy\",allow_pickle = True)"
   ]
  },
  {
   "cell_type": "code",
   "execution_count": 31,
   "metadata": {},
   "outputs": [
    {
     "name": "stdout",
     "output_type": "stream",
     "text": [
      "[0. 1.]\n"
     ]
    },
    {
     "data": {
      "image/png": "[encoded data removed]",
      "text/plain": [
       "<Figure size 432x288 with 1 Axes>"
      ]
     },
     "metadata": {
      "needs_background": "light"
     },
     "output_type": "display_data"
    }
   ],
   "source": [
    "plt.imshow(train_data[0][0],cmap = \"gray\")\n",
    "print(train_data[0][1])"
   ]
  },
  {
   "cell_type": "code",
   "execution_count": 32,
   "metadata": {},
   "outputs": [
    {
     "name": "stdout",
     "output_type": "stream",
     "text": [
      "[1. 0.]\n"
     ]
    },
    {
     "data": {
      "image/png": "[encoded data removed]",
      "text/plain": [
       "<Figure size 432x288 with 1 Axes>"
      ]
     },
     "metadata": {
      "needs_background": "light"
     },
     "output_type": "display_data"
    }
   ],
   "source": [
    "plt.imshow(train_data[1][0],cmap = \"gray\")\n",
    "print(train_data[1][1])"
   ]
  },
  {
   "cell_type": "code",
   "execution_count": null,
   "metadata": {},
   "outputs": [],
   "source": []
  }
 ],
 "metadata": {
  "kernelspec": {
   "display_name": "Python 3",
   "language": "python",
   "name": "python3"
  },
  "language_info": {
   "codemirror_mode": {
    "name": "ipython",
    "version": 3
   },
   "file_extension": ".py",
   "mimetype": "text/x-python",
   "name": "python",
   "nbconvert_exporter": "python",
   "pygments_lexer": "ipython3",
   "version": "3.6.3"
  }
 },
 "nbformat": 4,
 "nbformat_minor": 4
}
